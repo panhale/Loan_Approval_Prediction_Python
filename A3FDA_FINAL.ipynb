{
 "cells": [
  {
   "cell_type": "code",
   "execution_count": 7,
   "metadata": {
    "executionInfo": {
     "elapsed": 320,
     "status": "ok",
     "timestamp": 1699402860028,
     "user": {
      "displayName": "Aishwarya Rajesh Panhale",
      "userId": "08948554173796470783"
     },
     "user_tz": -660
    },
    "id": "krR88ToEqSrI"
   },
   "outputs": [],
   "source": [
    "import pandas as pd\n",
    "import numpy as np\n",
    "import matplotlib.pyplot as plt\n",
    "import seaborn as sns\n",
    "from sklearn.model_selection import train_test_split\n",
    "from sklearn.preprocessing import LabelEncoder, StandardScaler\n",
    "from sklearn.metrics import accuracy_score, classification_report, confusion_matrix\n",
    "from sklearn.ensemble import RandomForestClassifier\n"
   ]
  },
  {
   "cell_type": "code",
   "execution_count": 2,
   "metadata": {
    "executionInfo": {
     "elapsed": 328,
     "status": "ok",
     "timestamp": 1699402861745,
     "user": {
      "displayName": "Aishwarya Rajesh Panhale",
      "userId": "08948554173796470783"
     },
     "user_tz": -660
    },
    "id": "QjxCAYefqen6"
   },
   "outputs": [
    {
     "ename": "FileNotFoundError",
     "evalue": "[Errno 2] No such file or directory: '/content/drive/MyDrive/FDA_Dataset_A3/loan_data_training.csv'",
     "output_type": "error",
     "traceback": [
      "\u001b[0;31m---------------------------------------------------------------------------\u001b[0m",
      "\u001b[0;31mFileNotFoundError\u001b[0m                         Traceback (most recent call last)",
      "Cell \u001b[0;32mIn[2], line 1\u001b[0m\n\u001b[0;32m----> 1\u001b[0m data \u001b[38;5;241m=\u001b[39m pd\u001b[38;5;241m.\u001b[39mread_csv(\u001b[38;5;124m\"\u001b[39m\u001b[38;5;124m/content/drive/MyDrive/FDA_Dataset_A3/loan_data_training.csv\u001b[39m\u001b[38;5;124m\"\u001b[39m)\n",
      "File \u001b[0;32m~/anaconda3/lib/python3.11/site-packages/pandas/io/parsers/readers.py:912\u001b[0m, in \u001b[0;36mread_csv\u001b[0;34m(filepath_or_buffer, sep, delimiter, header, names, index_col, usecols, dtype, engine, converters, true_values, false_values, skipinitialspace, skiprows, skipfooter, nrows, na_values, keep_default_na, na_filter, verbose, skip_blank_lines, parse_dates, infer_datetime_format, keep_date_col, date_parser, date_format, dayfirst, cache_dates, iterator, chunksize, compression, thousands, decimal, lineterminator, quotechar, quoting, doublequote, escapechar, comment, encoding, encoding_errors, dialect, on_bad_lines, delim_whitespace, low_memory, memory_map, float_precision, storage_options, dtype_backend)\u001b[0m\n\u001b[1;32m    899\u001b[0m kwds_defaults \u001b[38;5;241m=\u001b[39m _refine_defaults_read(\n\u001b[1;32m    900\u001b[0m     dialect,\n\u001b[1;32m    901\u001b[0m     delimiter,\n\u001b[0;32m   (...)\u001b[0m\n\u001b[1;32m    908\u001b[0m     dtype_backend\u001b[38;5;241m=\u001b[39mdtype_backend,\n\u001b[1;32m    909\u001b[0m )\n\u001b[1;32m    910\u001b[0m kwds\u001b[38;5;241m.\u001b[39mupdate(kwds_defaults)\n\u001b[0;32m--> 912\u001b[0m \u001b[38;5;28;01mreturn\u001b[39;00m _read(filepath_or_buffer, kwds)\n",
      "File \u001b[0;32m~/anaconda3/lib/python3.11/site-packages/pandas/io/parsers/readers.py:577\u001b[0m, in \u001b[0;36m_read\u001b[0;34m(filepath_or_buffer, kwds)\u001b[0m\n\u001b[1;32m    574\u001b[0m _validate_names(kwds\u001b[38;5;241m.\u001b[39mget(\u001b[38;5;124m\"\u001b[39m\u001b[38;5;124mnames\u001b[39m\u001b[38;5;124m\"\u001b[39m, \u001b[38;5;28;01mNone\u001b[39;00m))\n\u001b[1;32m    576\u001b[0m \u001b[38;5;66;03m# Create the parser.\u001b[39;00m\n\u001b[0;32m--> 577\u001b[0m parser \u001b[38;5;241m=\u001b[39m TextFileReader(filepath_or_buffer, \u001b[38;5;241m*\u001b[39m\u001b[38;5;241m*\u001b[39mkwds)\n\u001b[1;32m    579\u001b[0m \u001b[38;5;28;01mif\u001b[39;00m chunksize \u001b[38;5;129;01mor\u001b[39;00m iterator:\n\u001b[1;32m    580\u001b[0m     \u001b[38;5;28;01mreturn\u001b[39;00m parser\n",
      "File \u001b[0;32m~/anaconda3/lib/python3.11/site-packages/pandas/io/parsers/readers.py:1407\u001b[0m, in \u001b[0;36mTextFileReader.__init__\u001b[0;34m(self, f, engine, **kwds)\u001b[0m\n\u001b[1;32m   1404\u001b[0m     \u001b[38;5;28mself\u001b[39m\u001b[38;5;241m.\u001b[39moptions[\u001b[38;5;124m\"\u001b[39m\u001b[38;5;124mhas_index_names\u001b[39m\u001b[38;5;124m\"\u001b[39m] \u001b[38;5;241m=\u001b[39m kwds[\u001b[38;5;124m\"\u001b[39m\u001b[38;5;124mhas_index_names\u001b[39m\u001b[38;5;124m\"\u001b[39m]\n\u001b[1;32m   1406\u001b[0m \u001b[38;5;28mself\u001b[39m\u001b[38;5;241m.\u001b[39mhandles: IOHandles \u001b[38;5;241m|\u001b[39m \u001b[38;5;28;01mNone\u001b[39;00m \u001b[38;5;241m=\u001b[39m \u001b[38;5;28;01mNone\u001b[39;00m\n\u001b[0;32m-> 1407\u001b[0m \u001b[38;5;28mself\u001b[39m\u001b[38;5;241m.\u001b[39m_engine \u001b[38;5;241m=\u001b[39m \u001b[38;5;28mself\u001b[39m\u001b[38;5;241m.\u001b[39m_make_engine(f, \u001b[38;5;28mself\u001b[39m\u001b[38;5;241m.\u001b[39mengine)\n",
      "File \u001b[0;32m~/anaconda3/lib/python3.11/site-packages/pandas/io/parsers/readers.py:1661\u001b[0m, in \u001b[0;36mTextFileReader._make_engine\u001b[0;34m(self, f, engine)\u001b[0m\n\u001b[1;32m   1659\u001b[0m     \u001b[38;5;28;01mif\u001b[39;00m \u001b[38;5;124m\"\u001b[39m\u001b[38;5;124mb\u001b[39m\u001b[38;5;124m\"\u001b[39m \u001b[38;5;129;01mnot\u001b[39;00m \u001b[38;5;129;01min\u001b[39;00m mode:\n\u001b[1;32m   1660\u001b[0m         mode \u001b[38;5;241m+\u001b[39m\u001b[38;5;241m=\u001b[39m \u001b[38;5;124m\"\u001b[39m\u001b[38;5;124mb\u001b[39m\u001b[38;5;124m\"\u001b[39m\n\u001b[0;32m-> 1661\u001b[0m \u001b[38;5;28mself\u001b[39m\u001b[38;5;241m.\u001b[39mhandles \u001b[38;5;241m=\u001b[39m get_handle(\n\u001b[1;32m   1662\u001b[0m     f,\n\u001b[1;32m   1663\u001b[0m     mode,\n\u001b[1;32m   1664\u001b[0m     encoding\u001b[38;5;241m=\u001b[39m\u001b[38;5;28mself\u001b[39m\u001b[38;5;241m.\u001b[39moptions\u001b[38;5;241m.\u001b[39mget(\u001b[38;5;124m\"\u001b[39m\u001b[38;5;124mencoding\u001b[39m\u001b[38;5;124m\"\u001b[39m, \u001b[38;5;28;01mNone\u001b[39;00m),\n\u001b[1;32m   1665\u001b[0m     compression\u001b[38;5;241m=\u001b[39m\u001b[38;5;28mself\u001b[39m\u001b[38;5;241m.\u001b[39moptions\u001b[38;5;241m.\u001b[39mget(\u001b[38;5;124m\"\u001b[39m\u001b[38;5;124mcompression\u001b[39m\u001b[38;5;124m\"\u001b[39m, \u001b[38;5;28;01mNone\u001b[39;00m),\n\u001b[1;32m   1666\u001b[0m     memory_map\u001b[38;5;241m=\u001b[39m\u001b[38;5;28mself\u001b[39m\u001b[38;5;241m.\u001b[39moptions\u001b[38;5;241m.\u001b[39mget(\u001b[38;5;124m\"\u001b[39m\u001b[38;5;124mmemory_map\u001b[39m\u001b[38;5;124m\"\u001b[39m, \u001b[38;5;28;01mFalse\u001b[39;00m),\n\u001b[1;32m   1667\u001b[0m     is_text\u001b[38;5;241m=\u001b[39mis_text,\n\u001b[1;32m   1668\u001b[0m     errors\u001b[38;5;241m=\u001b[39m\u001b[38;5;28mself\u001b[39m\u001b[38;5;241m.\u001b[39moptions\u001b[38;5;241m.\u001b[39mget(\u001b[38;5;124m\"\u001b[39m\u001b[38;5;124mencoding_errors\u001b[39m\u001b[38;5;124m\"\u001b[39m, \u001b[38;5;124m\"\u001b[39m\u001b[38;5;124mstrict\u001b[39m\u001b[38;5;124m\"\u001b[39m),\n\u001b[1;32m   1669\u001b[0m     storage_options\u001b[38;5;241m=\u001b[39m\u001b[38;5;28mself\u001b[39m\u001b[38;5;241m.\u001b[39moptions\u001b[38;5;241m.\u001b[39mget(\u001b[38;5;124m\"\u001b[39m\u001b[38;5;124mstorage_options\u001b[39m\u001b[38;5;124m\"\u001b[39m, \u001b[38;5;28;01mNone\u001b[39;00m),\n\u001b[1;32m   1670\u001b[0m )\n\u001b[1;32m   1671\u001b[0m \u001b[38;5;28;01massert\u001b[39;00m \u001b[38;5;28mself\u001b[39m\u001b[38;5;241m.\u001b[39mhandles \u001b[38;5;129;01mis\u001b[39;00m \u001b[38;5;129;01mnot\u001b[39;00m \u001b[38;5;28;01mNone\u001b[39;00m\n\u001b[1;32m   1672\u001b[0m f \u001b[38;5;241m=\u001b[39m \u001b[38;5;28mself\u001b[39m\u001b[38;5;241m.\u001b[39mhandles\u001b[38;5;241m.\u001b[39mhandle\n",
      "File \u001b[0;32m~/anaconda3/lib/python3.11/site-packages/pandas/io/common.py:859\u001b[0m, in \u001b[0;36mget_handle\u001b[0;34m(path_or_buf, mode, encoding, compression, memory_map, is_text, errors, storage_options)\u001b[0m\n\u001b[1;32m    854\u001b[0m \u001b[38;5;28;01melif\u001b[39;00m \u001b[38;5;28misinstance\u001b[39m(handle, \u001b[38;5;28mstr\u001b[39m):\n\u001b[1;32m    855\u001b[0m     \u001b[38;5;66;03m# Check whether the filename is to be opened in binary mode.\u001b[39;00m\n\u001b[1;32m    856\u001b[0m     \u001b[38;5;66;03m# Binary mode does not support 'encoding' and 'newline'.\u001b[39;00m\n\u001b[1;32m    857\u001b[0m     \u001b[38;5;28;01mif\u001b[39;00m ioargs\u001b[38;5;241m.\u001b[39mencoding \u001b[38;5;129;01mand\u001b[39;00m \u001b[38;5;124m\"\u001b[39m\u001b[38;5;124mb\u001b[39m\u001b[38;5;124m\"\u001b[39m \u001b[38;5;129;01mnot\u001b[39;00m \u001b[38;5;129;01min\u001b[39;00m ioargs\u001b[38;5;241m.\u001b[39mmode:\n\u001b[1;32m    858\u001b[0m         \u001b[38;5;66;03m# Encoding\u001b[39;00m\n\u001b[0;32m--> 859\u001b[0m         handle \u001b[38;5;241m=\u001b[39m \u001b[38;5;28mopen\u001b[39m(\n\u001b[1;32m    860\u001b[0m             handle,\n\u001b[1;32m    861\u001b[0m             ioargs\u001b[38;5;241m.\u001b[39mmode,\n\u001b[1;32m    862\u001b[0m             encoding\u001b[38;5;241m=\u001b[39mioargs\u001b[38;5;241m.\u001b[39mencoding,\n\u001b[1;32m    863\u001b[0m             errors\u001b[38;5;241m=\u001b[39merrors,\n\u001b[1;32m    864\u001b[0m             newline\u001b[38;5;241m=\u001b[39m\u001b[38;5;124m\"\u001b[39m\u001b[38;5;124m\"\u001b[39m,\n\u001b[1;32m    865\u001b[0m         )\n\u001b[1;32m    866\u001b[0m     \u001b[38;5;28;01melse\u001b[39;00m:\n\u001b[1;32m    867\u001b[0m         \u001b[38;5;66;03m# Binary mode\u001b[39;00m\n\u001b[1;32m    868\u001b[0m         handle \u001b[38;5;241m=\u001b[39m \u001b[38;5;28mopen\u001b[39m(handle, ioargs\u001b[38;5;241m.\u001b[39mmode)\n",
      "\u001b[0;31mFileNotFoundError\u001b[0m: [Errno 2] No such file or directory: '/content/drive/MyDrive/FDA_Dataset_A3/loan_data_training.csv'"
     ]
    }
   ],
   "source": [
    "data = pd.read_csv(\"\")"
   ]
  },
  {
   "cell_type": "code",
   "execution_count": null,
   "metadata": {
    "colab": {
     "base_uri": "https://localhost:8080/"
    },
    "executionInfo": {
     "elapsed": 316,
     "status": "ok",
     "timestamp": 1699402862813,
     "user": {
      "displayName": "Aishwarya Rajesh Panhale",
      "userId": "08948554173796470783"
     },
     "user_tz": -660
    },
    "id": "dgKBTVT6qgxr",
    "outputId": "a7243211-65a6-4a73-9c09-4a72d7ae03cc"
   },
   "outputs": [],
   "source": [
    "target_distribution =  data['TARGET'].value_counts(normalize=True)\n",
    "print(target_distribution)"
   ]
  },
  {
   "cell_type": "code",
   "execution_count": null,
   "metadata": {
    "colab": {
     "base_uri": "https://localhost:8080/"
    },
    "executionInfo": {
     "elapsed": 3,
     "status": "ok",
     "timestamp": 1699402864565,
     "user": {
      "displayName": "Aishwarya Rajesh Panhale",
      "userId": "08948554173796470783"
     },
     "user_tz": -660
    },
    "id": "qmCE9Mrmq2wV",
    "outputId": "d5db9809-10a2-499d-d309-1c09930291b5"
   },
   "outputs": [],
   "source": [
    "#identifying missing values\n",
    "missing_values = data.isna().sum()\n",
    "print(\"Missing values by column:\")\n",
    "print(missing_values[missing_values > 0])"
   ]
  },
  {
   "cell_type": "code",
   "execution_count": null,
   "metadata": {
    "colab": {
     "base_uri": "https://localhost:8080/",
     "height": 1000
    },
    "executionInfo": {
     "elapsed": 8476,
     "status": "ok",
     "timestamp": 1699402874625,
     "user": {
      "displayName": "Aishwarya Rajesh Panhale",
      "userId": "08948554173796470783"
     },
     "user_tz": -660
    },
    "id": "yxam7m8TRJ6S",
    "outputId": "626a1fa9-a813-4c0f-b2fa-0ba332e53374"
   },
   "outputs": [],
   "source": [
    "data.hist(figsize=(30,30))\n",
    "plt.show()"
   ]
  },
  {
   "cell_type": "code",
   "execution_count": null,
   "metadata": {
    "colab": {
     "base_uri": "https://localhost:8080/",
     "height": 715
    },
    "executionInfo": {
     "elapsed": 1355,
     "status": "ok",
     "timestamp": 1699402878334,
     "user": {
      "displayName": "Aishwarya Rajesh Panhale",
      "userId": "08948554173796470783"
     },
     "user_tz": -660
    },
    "id": "1JWW_SO_rV_4",
    "outputId": "7431ad0d-23a8-4cf5-aa4c-cf4fda0b3833"
   },
   "outputs": [],
   "source": [
    "#data cleaning process to check corelation with TARGET column\n",
    "Source= data[['NAME_TYPE_SUITE','EXT_SOURCE_3','EXT_SOURCE_2','AMT_REQ_CREDIT_BUREAU_HOUR','AMT_REQ_CREDIT_BUREAU_DAY','AMT_REQ_CREDIT_BUREAU_WEEK','AMT_REQ_CREDIT_BUREAU_MON','AMT_REQ_CREDIT_BUREAU_QRT','AMT_REQ_CREDIT_BUREAU_YEAR','TARGET']]\n",
    "source_corr = Source.corr()\n",
    "\n",
    "ax = sns.heatmap(source_corr,\n",
    "            xticklabels=source_corr.columns,\n",
    "            yticklabels=source_corr.columns,\n",
    "            annot = True,\n",
    "            cmap =\"RdYlGn\")"
   ]
  },
  {
   "cell_type": "code",
   "execution_count": null,
   "metadata": {
    "executionInfo": {
     "elapsed": 309,
     "status": "ok",
     "timestamp": 1699402881900,
     "user": {
      "displayName": "Aishwarya Rajesh Panhale",
      "userId": "08948554173796470783"
     },
     "user_tz": -660
    },
    "id": "ph3IzZoBrxMf"
   },
   "outputs": [],
   "source": [
    "#data drop based on corelation through heatmap and histogram visuals\n",
    "data= data.drop(['EXT_SOURCE_3','FLAG_MOBIL'],axis=1)\n",
    "#multiple columns of FLAG_DOCUMENT and AMT_REQ_CREDIT_BUREAU_*\n",
    "data= data.drop([ 'FLAG_DOCUMENT_2','FLAG_DOCUMENT_4', 'FLAG_DOCUMENT_5', 'FLAG_DOCUMENT_6','FLAG_DOCUMENT_7',\n",
    "           'FLAG_DOCUMENT_8', 'FLAG_DOCUMENT_9','FLAG_DOCUMENT_10', 'FLAG_DOCUMENT_11', 'FLAG_DOCUMENT_12','FLAG_DOCUMENT_13',\n",
    "           'FLAG_DOCUMENT_14', 'FLAG_DOCUMENT_15','FLAG_DOCUMENT_16', 'FLAG_DOCUMENT_17', 'FLAG_DOCUMENT_18','FLAG_DOCUMENT_19', 'FLAG_DOCUMENT_20', 'FLAG_DOCUMENT_21','AMT_REQ_CREDIT_BUREAU_WEEK','AMT_REQ_CREDIT_BUREAU_MON','AMT_REQ_CREDIT_BUREAU_QRT','AMT_REQ_CREDIT_BUREAU_YEAR','AMT_REQ_CREDIT_BUREAU_DAY','AMT_REQ_CREDIT_BUREAU_HOUR'],axis=1)"
   ]
  },
  {
   "cell_type": "code",
   "execution_count": null,
   "metadata": {
    "colab": {
     "base_uri": "https://localhost:8080/"
    },
    "executionInfo": {
     "elapsed": 4,
     "status": "ok",
     "timestamp": 1699402884181,
     "user": {
      "displayName": "Aishwarya Rajesh Panhale",
      "userId": "08948554173796470783"
     },
     "user_tz": -660
    },
    "id": "ecJIHyuaR0ar",
    "outputId": "6dd10878-fb8a-4094-8bd6-af182dcab24d"
   },
   "outputs": [],
   "source": [
    "#based on histogram diagram removing employee values that are positive\n",
    "data = data[data['DAYS_EMPLOYED'] <= 0]\n",
    "\n",
    "data['DAYS_EMPLOYED'].describe()"
   ]
  },
  {
   "cell_type": "code",
   "execution_count": null,
   "metadata": {
    "executionInfo": {
     "elapsed": 303,
     "status": "ok",
     "timestamp": 1699402886192,
     "user": {
      "displayName": "Aishwarya Rajesh Panhale",
      "userId": "08948554173796470783"
     },
     "user_tz": -660
    },
    "id": "vVByOY3nsHJn"
   },
   "outputs": [],
   "source": [
    "# Identifying datatypes of column as  numerical and categorical columns\n",
    "numerical_cols = data.select_dtypes(include=['float64', 'int64']).columns\n",
    "categorical_cols = data.select_dtypes(include=['object']).columns\n",
    "\n",
    "categorical_distribution = data[categorical_cols].nunique()\n",
    "#median for numeric values\n",
    "median_values = data[numerical_cols].median()\n",
    "\n",
    "# using median  for missing value\n",
    "data[numerical_cols] = data[numerical_cols].fillna(median_values)"
   ]
  },
  {
   "cell_type": "code",
   "execution_count": null,
   "metadata": {
    "colab": {
     "base_uri": "https://localhost:8080/"
    },
    "executionInfo": {
     "elapsed": 355,
     "status": "ok",
     "timestamp": 1699402889450,
     "user": {
      "displayName": "Aishwarya Rajesh Panhale",
      "userId": "08948554173796470783"
     },
     "user_tz": -660
    },
    "id": "98QQKoeStZDU",
    "outputId": "4eecd703-ae2b-4ae9-9eaa-09d379a28e08"
   },
   "outputs": [],
   "source": [
    "#checking mising values\n",
    "data.isnull().sum()"
   ]
  },
  {
   "cell_type": "code",
   "execution_count": null,
   "metadata": {
    "executionInfo": {
     "elapsed": 411,
     "status": "ok",
     "timestamp": 1699402892166,
     "user": {
      "displayName": "Aishwarya Rajesh Panhale",
      "userId": "08948554173796470783"
     },
     "user_tz": -660
    },
    "id": "JPl9qouPtgyi"
   },
   "outputs": [],
   "source": [
    "data= data.dropna(subset=['NAME_TYPE_SUITE'])"
   ]
  },
  {
   "cell_type": "code",
   "execution_count": null,
   "metadata": {
    "colab": {
     "base_uri": "https://localhost:8080/"
    },
    "executionInfo": {
     "elapsed": 491,
     "status": "ok",
     "timestamp": 1699402894208,
     "user": {
      "displayName": "Aishwarya Rajesh Panhale",
      "userId": "08948554173796470783"
     },
     "user_tz": -660
    },
    "id": "50WqY4KfuFqc",
    "outputId": "e41ccfa0-cc63-4f37-fe0b-c8c41e7cd506"
   },
   "outputs": [],
   "source": [
    "data.isnull().sum()"
   ]
  },
  {
   "cell_type": "code",
   "execution_count": null,
   "metadata": {
    "colab": {
     "base_uri": "https://localhost:8080/"
    },
    "executionInfo": {
     "elapsed": 313,
     "status": "ok",
     "timestamp": 1699402896540,
     "user": {
      "displayName": "Aishwarya Rajesh Panhale",
      "userId": "08948554173796470783"
     },
     "user_tz": -660
    },
    "id": "xiG0u6LmuKHP",
    "outputId": "3b55903d-4426-4198-e266-6edc8867a7a0"
   },
   "outputs": [],
   "source": [
    "data.info()"
   ]
  },
  {
   "cell_type": "code",
   "execution_count": null,
   "metadata": {
    "executionInfo": {
     "elapsed": 2,
     "status": "ok",
     "timestamp": 1699402899129,
     "user": {
      "displayName": "Aishwarya Rajesh Panhale",
      "userId": "08948554173796470783"
     },
     "user_tz": -660
    },
    "id": "rBofUxCLuQqX"
   },
   "outputs": [],
   "source": [
    "label_encoder = LabelEncoder()\n",
    "data['NAME_CONTRACT_TYPE'] = label_encoder.fit_transform(data['NAME_CONTRACT_TYPE'])\n",
    "data['CODE_GENDER'] = label_encoder.fit_transform(data['CODE_GENDER'])\n",
    "data['FLAG_OWN_CAR'] = label_encoder.fit_transform(data['FLAG_OWN_CAR'])\n",
    "data['FLAG_OWN_REALTY'] = label_encoder.fit_transform(data['FLAG_OWN_REALTY'])\n",
    "data['NAME_TYPE_SUITE'] = label_encoder.fit_transform(data['NAME_TYPE_SUITE'])\n",
    "data['NAME_INCOME_TYPE'] = label_encoder.fit_transform(data['NAME_INCOME_TYPE'])\n",
    "data['NAME_EDUCATION_TYPE'] = label_encoder.fit_transform(data['NAME_EDUCATION_TYPE'])\n",
    "data['NAME_FAMILY_STATUS'] = label_encoder.fit_transform(data['NAME_FAMILY_STATUS'])\n",
    "data['NAME_HOUSING_TYPE'] = label_encoder.fit_transform(data['NAME_HOUSING_TYPE'])\n",
    "data['WEEKDAY_APPR_PROCESS_START'] = label_encoder.fit_transform(data['WEEKDAY_APPR_PROCESS_START'])\n",
    "data['ORGANIZATION_TYPE'] = label_encoder.fit_transform(data['ORGANIZATION_TYPE'])"
   ]
  },
  {
   "cell_type": "code",
   "execution_count": null,
   "metadata": {
    "colab": {
     "base_uri": "https://localhost:8080/"
    },
    "executionInfo": {
     "elapsed": 4,
     "status": "ok",
     "timestamp": 1699402901341,
     "user": {
      "displayName": "Aishwarya Rajesh Panhale",
      "userId": "08948554173796470783"
     },
     "user_tz": -660
    },
    "id": "OITLWiif8O2E",
    "outputId": "8ae23dda-6144-4074-fccd-e44da8fbd3eb"
   },
   "outputs": [],
   "source": [
    "from sklearn.utils import resample\n",
    "\n",
    "\n",
    "print(\"BEFORE\" , data[\"TARGET\"].value_counts())\n",
    "\n",
    "sam_data = data.copy()\n",
    "df_major = sam_data [ sam_data[\"TARGET\"] == 0]\n",
    "df_minor = sam_data [ sam_data[\"TARGET\"] == 1]\n",
    "\n",
    "df_minor_upsampling = resample(df_minor, replace = True,\n",
    "                               n_samples = len(df_major), random_state =23)\n",
    "\n",
    "data = pd.concat([df_major, df_minor_upsampling])\n",
    "\n",
    "print(data[\"TARGET\"].value_counts())"
   ]
  },
  {
   "cell_type": "code",
   "execution_count": null,
   "metadata": {
    "executionInfo": {
     "elapsed": 499,
     "status": "ok",
     "timestamp": 1699402903844,
     "user": {
      "displayName": "Aishwarya Rajesh Panhale",
      "userId": "08948554173796470783"
     },
     "user_tz": -660
    },
    "id": "VzaWPVYAvEaQ"
   },
   "outputs": [],
   "source": [
    "X = data.drop(['TARGET', 'SK_ID_CURR'], axis=1)\n",
    "y = data['TARGET']"
   ]
  },
  {
   "cell_type": "code",
   "execution_count": null,
   "metadata": {
    "executionInfo": {
     "elapsed": 2,
     "status": "ok",
     "timestamp": 1699402905266,
     "user": {
      "displayName": "Aishwarya Rajesh Panhale",
      "userId": "08948554173796470783"
     },
     "user_tz": -660
    },
    "id": "S7YjPgh7vLCM"
   },
   "outputs": [],
   "source": [
    "X_train, X_test, y_train, y_test = train_test_split(X, y, test_size=0.20, random_state=42)"
   ]
  },
  {
   "cell_type": "code",
   "execution_count": null,
   "metadata": {
    "executionInfo": {
     "elapsed": 368,
     "status": "ok",
     "timestamp": 1699402906945,
     "user": {
      "displayName": "Aishwarya Rajesh Panhale",
      "userId": "08948554173796470783"
     },
     "user_tz": -660
    },
    "id": "xvpS-2AgvMhJ"
   },
   "outputs": [],
   "source": [
    "scaler = StandardScaler()\n",
    "X_train = scaler.fit_transform(X_train)\n",
    "X_test = scaler.transform(X_test)"
   ]
  },
  {
   "cell_type": "code",
   "execution_count": null,
   "metadata": {
    "executionInfo": {
     "elapsed": 410,
     "status": "ok",
     "timestamp": 1699402908757,
     "user": {
      "displayName": "Aishwarya Rajesh Panhale",
      "userId": "08948554173796470783"
     },
     "user_tz": -660
    },
    "id": "TBhu8NFnvQRq"
   },
   "outputs": [],
   "source": [
    "#from sklearn.impute import SimpleImputer\n",
    "\n",
    "# Initialize the imputer with mean\n",
    "#imputer = SimpleImputer(strategy='mean')\n",
    "\n",
    "#X_train = imputer.fit_transform(X_train)\n",
    "\n",
    "#X_test = imputer.transform(X_test)\n",
    "\n",
    "# i tried using imputer to fill missing value but was further affecting my accuracy and classifiers in training.#"
   ]
  },
  {
   "cell_type": "code",
   "execution_count": null,
   "metadata": {
    "colab": {
     "base_uri": "https://localhost:8080/"
    },
    "executionInfo": {
     "elapsed": 17894,
     "status": "ok",
     "timestamp": 1699402928801,
     "user": {
      "displayName": "Aishwarya Rajesh Panhale",
      "userId": "08948554173796470783"
     },
     "user_tz": -660
    },
    "id": "vx2S1EAIvUOQ",
    "outputId": "a6caf414-105e-41fe-b593-7c69026430a9"
   },
   "outputs": [],
   "source": [
    "#Random Forest Classifier\n",
    "from sklearn.ensemble import RandomForestClassifier\n",
    "#adding hyperparameters to get better accuracy than 62% which was with no parameters\n",
    "rf_model = RandomForestClassifier(max_depth=30, min_samples_leaf=2, min_samples_split=10, n_estimators=300, random_state=42)\n",
    "# max_depth=30: Maximum depth of the decision tree in each random forest\n",
    "# min_samples_leaf=2: Minimum number of samples required for leaf node.\n",
    "# min_samples_split=10: Minimum number of samples required to split an internal node.\n",
    "# n_estimators=300: The number of decision trees in the random forest.\n",
    "# random_state=42: Set a random seed for reproducibility.\n",
    "rf_model.fit(X_train, y_train)\n",
    "y_rf_pred = rf_model.predict(X_test)\n",
    "accuracy = accuracy_score(y_test, y_rf_pred)\n",
    "print(\"Random Forest Classifier Accuracy:\", accuracy)\n",
    "\n",
    "print(\"Classification Report for Random Forest Classifier:\\n\", classification_report(y_test, y_rf_pred))\n",
    "print(\"Confusion Matrix:\\n\", confusion_matrix(y_test, y_rf_pred))\n",
    "\n"
   ]
  },
  {
   "cell_type": "code",
   "execution_count": null,
   "metadata": {
    "colab": {
     "base_uri": "https://localhost:8080/",
     "height": 449
    },
    "executionInfo": {
     "elapsed": 386,
     "status": "ok",
     "timestamp": 1699402932283,
     "user": {
      "displayName": "Aishwarya Rajesh Panhale",
      "userId": "08948554173796470783"
     },
     "user_tz": -660
    },
    "id": "ctqhw4Ngv0z8",
    "outputId": "5cadb098-49a9-4d26-cc15-55d51137e8f6"
   },
   "outputs": [],
   "source": [
    "import matplotlib.pyplot as plt\n",
    "from sklearn.metrics import confusion_matrix, ConfusionMatrixDisplay\n",
    "from sklearn.metrics import roc_curve, roc_auc_score, f1_score, auc\n",
    "\n",
    "#defining the values of y_test and y_pred to confusion matrix\n",
    "rf_confusion_matrix = confusion_matrix(y_test, y_rf_pred)\n",
    "\n",
    "#to handle imblance in dataset we calculate f1_score\n",
    "f1_rf= f1_score(y_test,y_rf_pred)\n",
    "\n",
    "#displaying Confusion matrix\n",
    "disp_rf= ConfusionMatrixDisplay(confusion_matrix=rf_confusion_matrix)\n",
    "disp_rf.plot()\n",
    "plt.ylabel('True label')\n",
    "plt.xlabel('Predicted label')\n",
    "plt.show()"
   ]
  },
  {
   "cell_type": "code",
   "execution_count": 3,
   "metadata": {
    "colab": {
     "base_uri": "https://localhost:8080/",
     "height": 564
    },
    "executionInfo": {
     "elapsed": 1171,
     "status": "ok",
     "timestamp": 1699402937137,
     "user": {
      "displayName": "Aishwarya Rajesh Panhale",
      "userId": "08948554173796470783"
     },
     "user_tz": -660
    },
    "id": "Uw8RfzKgv320",
    "outputId": "a3a9ec79-088c-4438-aa8f-73f0480fcaea"
   },
   "outputs": [
    {
     "ename": "NameError",
     "evalue": "name 'rf_model' is not defined",
     "output_type": "error",
     "traceback": [
      "\u001b[0;31m---------------------------------------------------------------------------\u001b[0m",
      "\u001b[0;31mNameError\u001b[0m                                 Traceback (most recent call last)",
      "Cell \u001b[0;32mIn[3], line 6\u001b[0m\n\u001b[1;32m      3\u001b[0m \u001b[38;5;28;01mfrom\u001b[39;00m \u001b[38;5;21;01msklearn\u001b[39;00m\u001b[38;5;21;01m.\u001b[39;00m\u001b[38;5;21;01mmetrics\u001b[39;00m \u001b[38;5;28;01mimport\u001b[39;00m roc_curve, roc_auc_score\n\u001b[1;32m      4\u001b[0m \u001b[38;5;28;01mfrom\u001b[39;00m \u001b[38;5;21;01msklearn\u001b[39;00m\u001b[38;5;21;01m.\u001b[39;00m\u001b[38;5;21;01mensemble\u001b[39;00m \u001b[38;5;28;01mimport\u001b[39;00m RandomForestClassifier\n\u001b[0;32m----> 6\u001b[0m y_pred_prob_rf \u001b[38;5;241m=\u001b[39m rf_model\u001b[38;5;241m.\u001b[39mpredict_proba(X_test)[:, \u001b[38;5;241m1\u001b[39m]\n\u001b[1;32m      7\u001b[0m \u001b[38;5;66;03m#false positive and true positive rate to calculate roc curve\u001b[39;00m\n\u001b[1;32m      8\u001b[0m fpr, tpr, thresholds \u001b[38;5;241m=\u001b[39m roc_curve(y_test, y_pred_prob_rf)\n",
      "\u001b[0;31mNameError\u001b[0m: name 'rf_model' is not defined"
     ]
    }
   ],
   "source": [
    "#random forest classifier ROC curve\n",
    "import matplotlib.pyplot as plt\n",
    "from sklearn.metrics import roc_curve, roc_auc_score\n",
    "from sklearn.ensemble import RandomForestClassifier\n",
    "\n",
    "y_pred_prob_rf = rf_model.predict_proba(X_test)[:, 1]\n",
    "#false positive and true positive rate to calculate roc curve\n",
    "fpr, tpr, thresholds = roc_curve(y_test, y_pred_prob_rf)\n",
    "\n",
    "\n",
    "roc_auc_rf = roc_auc_score(y_test, y_pred_prob_rf)\n",
    "\n",
    "\n",
    "plt.figure(figsize=(8, 6))\n",
    "plt.plot(fpr, tpr, color='blue', lw=2, label='ROC curve (area = %0.2f)' % roc_auc_rf)\n",
    "plt.plot([0, 1], [0, 1], color='red', lw=2, linestyle='--')\n",
    "plt.xlim([0.0, 1.0])\n",
    "plt.ylim([0.0, 1.05])\n",
    "plt.xlabel('False Positive Rate')\n",
    "plt.ylabel('True Positive Rate')\n",
    "plt.title('Receiver Operating Characteristic (ROC)')\n",
    "plt.legend(loc='lower right')\n",
    "plt.show()"
   ]
  },
  {
   "cell_type": "code",
   "execution_count": 4,
   "metadata": {
    "colab": {
     "base_uri": "https://localhost:8080/",
     "height": 645
    },
    "executionInfo": {
     "elapsed": 1641,
     "status": "ok",
     "timestamp": 1699402941120,
     "user": {
      "displayName": "Aishwarya Rajesh Panhale",
      "userId": "08948554173796470783"
     },
     "user_tz": -660
    },
    "id": "DdoPz-IX6DkO",
    "outputId": "c709b792-1c46-457e-f48a-7b08b48ac288"
   },
   "outputs": [
    {
     "ename": "NameError",
     "evalue": "name 'X_train' is not defined",
     "output_type": "error",
     "traceback": [
      "\u001b[0;31m---------------------------------------------------------------------------\u001b[0m",
      "\u001b[0;31mNameError\u001b[0m                                 Traceback (most recent call last)",
      "Cell \u001b[0;32mIn[4], line 10\u001b[0m\n\u001b[1;32m      3\u001b[0m \u001b[38;5;66;03m#adding hyper parameters to get higher accuracy\u001b[39;00m\n\u001b[1;32m      4\u001b[0m \u001b[38;5;66;03m# 'entropy' is used for information gain- criterion\u001b[39;00m\n\u001b[1;32m      5\u001b[0m \u001b[38;5;66;03m# Max Depth: 7 limits the depth of the tree\u001b[39;00m\n\u001b[1;32m      6\u001b[0m \u001b[38;5;66;03m# Min Samples Leaf: 2 minimum number of samples required to be a leaf node\u001b[39;00m\n\u001b[1;32m      7\u001b[0m \u001b[38;5;66;03m# Min Samples Split: 2  minimum number of samples required to split an internal node\u001b[39;00m\n\u001b[1;32m      9\u001b[0m dt_model \u001b[38;5;241m=\u001b[39m DecisionTreeClassifier(criterion\u001b[38;5;241m=\u001b[39m\u001b[38;5;124m'\u001b[39m\u001b[38;5;124mentropy\u001b[39m\u001b[38;5;124m'\u001b[39m, max_depth\u001b[38;5;241m=\u001b[39m\u001b[38;5;241m7\u001b[39m, min_samples_leaf\u001b[38;5;241m=\u001b[39m\u001b[38;5;241m2\u001b[39m, min_samples_split\u001b[38;5;241m=\u001b[39m\u001b[38;5;241m2\u001b[39m, random_state\u001b[38;5;241m=\u001b[39m\u001b[38;5;241m42\u001b[39m)\n\u001b[0;32m---> 10\u001b[0m dt_model\u001b[38;5;241m.\u001b[39mfit(X_train, y_train)\n\u001b[1;32m     11\u001b[0m y_dt_pred \u001b[38;5;241m=\u001b[39m dt_model\u001b[38;5;241m.\u001b[39mpredict(X_test)\n\u001b[1;32m     13\u001b[0m accuracy_dt \u001b[38;5;241m=\u001b[39m accuracy_score(y_test, y_dt_pred)\n",
      "\u001b[0;31mNameError\u001b[0m: name 'X_train' is not defined"
     ]
    }
   ],
   "source": [
    "#decsion tree classifier\n",
    "from sklearn.tree import DecisionTreeClassifier\n",
    "#adding hyper parameters to get higher accuracy\n",
    "# 'entropy' is used for information gain- criterion\n",
    "# Max Depth: 7 limits the depth of the tree\n",
    "# Min Samples Leaf: 2 minimum number of samples required to be a leaf node\n",
    "# Min Samples Split: 2  minimum number of samples required to split an internal node\n",
    "\n",
    "dt_model = DecisionTreeClassifier(criterion='entropy', max_depth=7, min_samples_leaf=2, min_samples_split=2, random_state=42)\n",
    "dt_model.fit(X_train, y_train)\n",
    "y_dt_pred = dt_model.predict(X_test)\n",
    "\n",
    "accuracy_dt = accuracy_score(y_test, y_dt_pred)\n",
    "print(\"Decision Tree Classifier Accuracy:\", accuracy_dt)\n",
    "\n",
    "print(\"Classification Report for Decision Tree Classifier:\\n\", classification_report(y_test, y_dt_pred))\n",
    "\n",
    "\n",
    "#defining the values of y_test and y_pred to confusion matrix\n",
    "dt_confusion_matrix = confusion_matrix(y_test, y_dt_pred)\n",
    "\n",
    "\n",
    "f1_dt= f1_score(y_test,y_dt_pred)\n",
    "\n",
    "\n",
    "\n",
    "#displaying Confusion matrix\n",
    "disp_dt= ConfusionMatrixDisplay(confusion_matrix=dt_confusion_matrix)\n",
    "disp_dt.plot()\n",
    "plt.ylabel('True label')\n",
    "plt.xlabel('Predicted label')\n",
    "plt.show()\n"
   ]
  },
  {
   "cell_type": "code",
   "execution_count": 6,
   "metadata": {
    "colab": {
     "base_uri": "https://localhost:8080/",
     "height": 564
    },
    "executionInfo": {
     "elapsed": 1422,
     "status": "ok",
     "timestamp": 1699402946541,
     "user": {
      "displayName": "Aishwarya Rajesh Panhale",
      "userId": "08948554173796470783"
     },
     "user_tz": -660
    },
    "id": "1YAxHOi28nuk",
    "outputId": "8906692b-b4fa-4a32-dd65-db52294f91af"
   },
   "outputs": [
    {
     "ename": "NameError",
     "evalue": "name 'X_train' is not defined",
     "output_type": "error",
     "traceback": [
      "\u001b[0;31m---------------------------------------------------------------------------\u001b[0m",
      "\u001b[0;31mNameError\u001b[0m                                 Traceback (most recent call last)",
      "Cell \u001b[0;32mIn[6], line 7\u001b[0m\n\u001b[1;32m      4\u001b[0m \u001b[38;5;28;01mfrom\u001b[39;00m \u001b[38;5;21;01msklearn\u001b[39;00m\u001b[38;5;21;01m.\u001b[39;00m\u001b[38;5;21;01mtree\u001b[39;00m \u001b[38;5;28;01mimport\u001b[39;00m DecisionTreeClassifier\n\u001b[1;32m      6\u001b[0m dt_classifier \u001b[38;5;241m=\u001b[39m DecisionTreeClassifier(random_state\u001b[38;5;241m=\u001b[39m\u001b[38;5;241m42\u001b[39m)\n\u001b[0;32m----> 7\u001b[0m dt_classifier\u001b[38;5;241m.\u001b[39mfit(X_train, y_train)\n\u001b[1;32m     10\u001b[0m y_pred_prob_dt \u001b[38;5;241m=\u001b[39m dt_classifier\u001b[38;5;241m.\u001b[39mpredict_proba(X_test)[:, \u001b[38;5;241m1\u001b[39m]\n\u001b[1;32m     12\u001b[0m fpr, tpr, thresholds \u001b[38;5;241m=\u001b[39m roc_curve(y_test, y_pred_prob_dt)\n",
      "\u001b[0;31mNameError\u001b[0m: name 'X_train' is not defined"
     ]
    }
   ],
   "source": [
    "#Decision tree classifier ROC curve\n",
    "import matplotlib.pyplot as plt\n",
    "from sklearn.metrics import roc_curve, roc_auc_score\n",
    "from sklearn.tree import DecisionTreeClassifier\n",
    "\n",
    "dt_classifier = DecisionTreeClassifier(random_state=42)\n",
    "dt_classifier.fit(X_train, y_train)\n",
    "\n",
    "\n",
    "y_pred_prob_dt = dt_classifier.predict_proba(X_test)[:, 1]\n",
    "\n",
    "fpr, tpr, thresholds = roc_curve(y_test, y_pred_prob_dt)\n",
    "roc_auc_dt= roc_auc_score(y_test, y_pred_prob_dt)\n",
    "\n",
    "\n",
    "plt.figure(figsize=(8, 6))\n",
    "plt.plot(fpr, tpr, color='blue', lw=2, label='ROC curve (area = %0.2f)' % roc_auc_dt)\n",
    "plt.plot([0, 1], [0, 1], color='red', lw=2, linestyle='--')\n",
    "plt.xlim([0.0, 1.0])\n",
    "plt.ylim([0.0, 1.05])\n",
    "plt.xlabel('False Positive Rate')\n",
    "plt.ylabel('True Positive Rate')\n",
    "plt.title('Receiver Operating Characteristic (ROC)')\n",
    "plt.legend(loc='lower right')\n",
    "plt.show()\n"
   ]
  },
  {
   "cell_type": "code",
   "execution_count": 48,
   "metadata": {
    "colab": {
     "base_uri": "https://localhost:8080/",
     "height": 645
    },
    "executionInfo": {
     "elapsed": 339404,
     "status": "ok",
     "timestamp": 1699403627542,
     "user": {
      "displayName": "Aishwarya Rajesh Panhale",
      "userId": "08948554173796470783"
     },
     "user_tz": -660
    },
    "id": "o2WWNny79PF2",
    "outputId": "db9ea813-8dd1-47c0-fb51-7357373dd653"
   },
   "outputs": [
    {
     "name": "stdout",
     "output_type": "stream",
     "text": [
      "Support Vector Classifier Accuracy: 0.6542133665421337\n",
      "Classification Report for SVM Classifier:\n",
      "               precision    recall  f1-score   support\n",
      "\n",
      "           0       0.65      0.67      0.66      3626\n",
      "           1       0.66      0.64      0.65      3601\n",
      "\n",
      "    accuracy                           0.65      7227\n",
      "   macro avg       0.65      0.65      0.65      7227\n",
      "weighted avg       0.65      0.65      0.65      7227\n",
      "\n"
     ]
    },
    {
     "data": {
      "image/png": "[encoded data removed]",
      "text/plain": [
       "<Figure size 640x480 with 2 Axes>"
      ]
     },
     "metadata": {},
     "output_type": "display_data"
    }
   ],
   "source": [
    "#Support vector machine-svM\n",
    "from sklearn.svm import SVC\n",
    "\n",
    "svm_model = SVC(kernel='linear',random_state=42,probability= True)   #Linear Kernel\n",
    "svm_model.fit(X_train, y_train)\n",
    "y_svm_pred = svm_model.predict(X_test)\n",
    "\n",
    "accuracy_svm = accuracy_score(y_test, y_svm_pred)\n",
    "\n",
    "print (\"Support Vector Classifier Accuracy:\",accuracy_svm)\n",
    "\n",
    "print(\"Classification Report for SVM Classifier:\\n\", classification_report(y_test, y_svm_pred))\n",
    "\n",
    "#defining the values of y_test and y_pred to confusion matrix\n",
    "svm_confusion_matrix = confusion_matrix(y_test, y_svm_pred)\n",
    "\n",
    "\n",
    "f1_svm= f1_score(y_test,y_svm_pred)\n",
    "\n",
    "#displaying Confusion matrix\n",
    "disp_svm= ConfusionMatrixDisplay(confusion_matrix=svm_confusion_matrix)\n",
    "disp_svm.plot()\n",
    "plt.ylabel('True label')\n",
    "plt.xlabel('Predicted label')\n",
    "plt.show()\n",
    "\n"
   ]
  },
  {
   "cell_type": "code",
   "execution_count": 50,
   "metadata": {
    "colab": {
     "base_uri": "https://localhost:8080/",
     "height": 564
    },
    "executionInfo": {
     "elapsed": 5542,
     "status": "ok",
     "timestamp": 1699404012266,
     "user": {
      "displayName": "Aishwarya Rajesh Panhale",
      "userId": "08948554173796470783"
     },
     "user_tz": -660
    },
    "id": "RZ399udDA5NG",
    "outputId": "4d7083d2-9c5a-457d-95d4-d764a21076cc"
   },
   "outputs": [
    {
     "data": {
      "image/png": "[encoded data removed]",
      "text/plain": [
       "<Figure size 800x600 with 1 Axes>"
      ]
     },
     "metadata": {},
     "output_type": "display_data"
    }
   ],
   "source": [
    "# SVC ROC curve\n",
    "import matplotlib.pyplot as plt\n",
    "from sklearn.metrics import roc_curve, roc_auc_score\n",
    "from sklearn.svm import SVC\n",
    "\n",
    "y_pred_prob = svm_model.predict_proba(X_test)[:, 1]\n",
    "\n",
    "\n",
    "fpr, tpr, thresholds = roc_curve(y_test, y_pred_prob)\n",
    "roc_auc_svm = roc_auc_score(y_test, y_pred_prob)\n",
    "\n",
    "\n",
    "plt.figure(figsize=(8, 6))\n",
    "plt.plot(fpr, tpr, color='blue', lw=2, label='ROC curve (area = %0.2f)' % roc_auc_svm)\n",
    "plt.plot([0, 1], [0, 1], color='orange', lw=2, linestyle='--')\n",
    "plt.xlim([0.0, 1.0])\n",
    "plt.ylim([0.0, 1.05])\n",
    "plt.xlabel('False Positive Rate')\n",
    "plt.ylabel('True Positive Rate')\n",
    "plt.title('Receiver Operating Characteristic (ROC)')\n",
    "plt.legend(loc='lower right')\n",
    "plt.show()\n"
   ]
  },
  {
   "cell_type": "code",
   "execution_count": 51,
   "metadata": {
    "colab": {
     "base_uri": "https://localhost:8080/",
     "height": 1000
    },
    "executionInfo": {
     "elapsed": 18014,
     "status": "ok",
     "timestamp": 1699404033777,
     "user": {
      "displayName": "Aishwarya Rajesh Panhale",
      "userId": "08948554173796470783"
     },
     "user_tz": -660
    },
    "id": "57jH1YnfF9UF",
    "outputId": "413b76b0-e803-4af9-db03-72175e731cfe"
   },
   "outputs": [
    {
     "name": "stdout",
     "output_type": "stream",
     "text": [
      "KNN Classifier Accuracy: 0.7016742770167428\n",
      "Classification Report for KNN Classifier:\n",
      "               precision    recall  f1-score   support\n",
      "\n",
      "           0       0.78      0.56      0.65      3626\n",
      "           1       0.66      0.84      0.74      3601\n",
      "\n",
      "    accuracy                           0.70      7227\n",
      "   macro avg       0.72      0.70      0.70      7227\n",
      "weighted avg       0.72      0.70      0.70      7227\n",
      "\n"
     ]
    },
    {
     "data": {
      "image/png": "[encoded data removed]",
      "text/plain": [
       "<Figure size 640x480 with 2 Axes>"
      ]
     },
     "metadata": {},
     "output_type": "display_data"
    },
    {
     "name": "stdout",
     "output_type": "stream",
     "text": [
      "\n",
      "\n"
     ]
    },
    {
     "data": {
      "image/png": "[encoded data removed]",
      "text/plain": [
       "<Figure size 800x600 with 1 Axes>"
      ]
     },
     "metadata": {},
     "output_type": "display_data"
    }
   ],
   "source": [
    "#KNN Classifier\n",
    "from sklearn.neighbors import KNeighborsClassifier\n",
    "#3 specified number of neighbors were used but were changed to get better accuracy\n",
    "knn_model = KNeighborsClassifier(n_neighbors=9, weights = 'distance', metric = 'manhattan', p= 1)\n",
    "# n_neighbors=9: Use 9 nearest neighbors to make predictions, controlling the balance between bias and variance.\n",
    "# weights='distance': Give more weight to closer neighbors, emphasizing local data structure.\n",
    "# metric='manhattan': Use the Manhattan distance metric for measuring data point distances.\n",
    "# p=1: Equivalent to using the 'manhattan' distance metric\n",
    "\n",
    "knn_model.fit(X_train, y_train)\n",
    "y_knn_pred = knn_model.predict(X_test)\n",
    "\n",
    "accuracy_knn = accuracy_score(y_test, y_knn_pred)\n",
    "print(\"KNN Classifier Accuracy:\", accuracy_knn)\n",
    "\n",
    "print(\"Classification Report for KNN Classifier:\\n\", classification_report(y_test, y_knn_pred))\n",
    "\n",
    "#defining the values of y_test and y_pred to confusion matrix\n",
    "knn_confusion_matrix = confusion_matrix(y_test, y_knn_pred)\n",
    "\n",
    "f1_knn= f1_score(y_test,y_knn_pred)\n",
    "\n",
    "#displaying Confusion matrix\n",
    "disp_knn= ConfusionMatrixDisplay(confusion_matrix=knn_confusion_matrix)\n",
    "disp_knn.plot()\n",
    "plt.ylabel('True label')\n",
    "plt.xlabel('Predicted label')\n",
    "plt.show()\n",
    "\n",
    "# KNN ROC curve\n",
    "print(\"\\n\")\n",
    "\n",
    "y_pred_prob_knn = knn_model.predict_proba(X_test)[:, 1]\n",
    "\n",
    "fpr_knn, tpr_knn, thresholds_knn = roc_curve(y_test, y_pred_prob_knn)\n",
    "roc_auc_knn = roc_auc_score(y_test, y_pred_prob_knn)\n",
    "\n",
    "plt.figure(figsize=(8, 6))\n",
    "plt.plot(fpr_knn, tpr_knn, color='blue', lw=2, label='ROC curve (area = %0.2f)' % roc_auc_knn)\n",
    "plt.plot([0, 1], [0, 1], color='red', lw=2, linestyle='--')\n",
    "plt.xlim([0.0, 1.0])\n",
    "plt.ylim([0.0, 1.05])\n",
    "plt.xlabel('False Positive Rate')\n",
    "plt.ylabel('True Positive Rate')\n",
    "plt.title('Receiver Operating Characteristic (ROC) for KNN Classifier')\n",
    "plt.legend(loc='lower right')\n",
    "plt.show()\n"
   ]
  },
  {
   "cell_type": "code",
   "execution_count": 52,
   "metadata": {
    "colab": {
     "base_uri": "https://localhost:8080/",
     "height": 0
    },
    "executionInfo": {
     "elapsed": 87190,
     "status": "ok",
     "timestamp": 1699404131834,
     "user": {
      "displayName": "Aishwarya Rajesh Panhale",
      "userId": "08948554173796470783"
     },
     "user_tz": -660
    },
    "id": "MtaK_MstJf34",
    "outputId": "37066f90-2ada-47d5-e604-9f9dc861780a"
   },
   "outputs": [
    {
     "name": "stdout",
     "output_type": "stream",
     "text": [
      "MLP Accuracy: 0.6912965269129653\n",
      "Classification Report:\n",
      "               precision    recall  f1-score   support\n",
      "\n",
      "           0       0.72      0.64      0.67      3626\n",
      "           1       0.67      0.74      0.71      3601\n",
      "\n",
      "    accuracy                           0.69      7227\n",
      "   macro avg       0.69      0.69      0.69      7227\n",
      "weighted avg       0.69      0.69      0.69      7227\n",
      "\n",
      "Confusion Matrix:\n",
      " [[2314 1312]\n",
      " [ 919 2682]]\n"
     ]
    },
    {
     "data": {
      "image/png": "[encoded data removed]",
      "text/plain": [
       "<Figure size 640x480 with 2 Axes>"
      ]
     },
     "metadata": {},
     "output_type": "display_data"
    },
    {
     "name": "stdout",
     "output_type": "stream",
     "text": [
      "\n",
      "\n"
     ]
    },
    {
     "data": {
      "image/png": "[encoded data removed]",
      "text/plain": [
       "<Figure size 800x600 with 1 Axes>"
      ]
     },
     "metadata": {},
     "output_type": "display_data"
    }
   ],
   "source": [
    "#Neural Networks using MLP classifier\n",
    "from sklearn.neural_network import MLPClassifier\n",
    "\n",
    "\n",
    "mlp_model = MLPClassifier(hidden_layer_sizes=(100, 50), max_iter=1000, random_state=42)\n",
    "#hidden_layer_sizes=(100, 50): with two hidden layers, containing 100 and 50 neurons, respectively.\n",
    "# max_iter=1000: Maximum number of iterations for the solver to converge.\n",
    "mlp_model.fit(X_train, y_train)\n",
    "y_mlp_pred = mlp_model.predict(X_test)\n",
    "\n",
    "accuracy = accuracy_score(y_test, y_mlp_pred)\n",
    "print(\"MLP Accuracy:\", accuracy)\n",
    "print(\"Classification Report:\\n\", classification_report(y_test, y_mlp_pred))\n",
    "print(\"Confusion Matrix:\\n\", confusion_matrix(y_test, y_mlp_pred))\n",
    "\n",
    "#defining the values of y_test and y_pred to confusion matrix\n",
    "mlp_confusion_matrix = confusion_matrix(y_test, y_mlp_pred)\n",
    "\n",
    "f1_mlp= f1_score(y_test,y_mlp_pred)\n",
    "\n",
    "#displaying Confusion matrix\n",
    "disp_mlp= ConfusionMatrixDisplay(confusion_matrix=mlp_confusion_matrix)\n",
    "disp_mlp.plot()\n",
    "plt.ylabel('True label')\n",
    "plt.xlabel('Predicted label')\n",
    "plt.show()\n",
    "\n",
    "print(\"\\n\")\n",
    "#Neural Networks ROC curve\n",
    "\n",
    "fpr_mlp, tpr_mlp, thresholds_mlp = roc_curve(y_test, y_mlp_pred)\n",
    "roc_auc_mlp = roc_auc_score(y_test, y_mlp_pred)\n",
    "\n",
    "plt.figure(figsize=(8, 6))\n",
    "plt.plot(fpr, tpr, color='blue', lw=2, label='ROC curve (area = %0.2f)' % roc_auc_mlp)\n",
    "plt.plot([0, 1], [0, 1], color='red', lw=2, linestyle='--')\n",
    "plt.xlim([0.0, 1.0])\n",
    "plt.ylim([0.0, 1.05])\n",
    "plt.xlabel('False Positive Rate')\n",
    "plt.ylabel('True Positive Rate')\n",
    "plt.title('Receiver Operating Characteristic (ROC) for Linear Regression')\n",
    "plt.legend(loc='lower right')\n",
    "plt.show()\n"
   ]
  },
  {
   "cell_type": "code",
   "execution_count": null,
   "metadata": {
    "executionInfo": {
     "elapsed": 4,
     "status": "aborted",
     "timestamp": 1699402837378,
     "user": {
      "displayName": "Aishwarya Rajesh Panhale",
      "userId": "08948554173796470783"
     },
     "user_tz": -660
    },
    "id": "M3KdrYDGMYM7"
   },
   "outputs": [],
   "source": [
    "from IPython.core.display import ProgressBar\n",
    "models= [rf_model,dt_model,svm_model,knn_model,mlp_model]\n",
    "prob_scores = [y_pred_prob_rf, y_pred_prob_dt,y_pred_prob,y_pred_prob_knn,y_mlp_pred]"
   ]
  },
  {
   "cell_type": "code",
   "execution_count": null,
   "metadata": {
    "executionInfo": {
     "elapsed": 4,
     "status": "aborted",
     "timestamp": 1699402837378,
     "user": {
      "displayName": "Aishwarya Rajesh Panhale",
      "userId": "08948554173796470783"
     },
     "user_tz": -660
    },
    "id": "C6h__s2RQT4j"
   },
   "outputs": [],
   "source": [
    "len(prob_scores)"
   ]
  },
  {
   "cell_type": "code",
   "execution_count": null,
   "metadata": {
    "executionInfo": {
     "elapsed": 5,
     "status": "aborted",
     "timestamp": 1699402837379,
     "user": {
      "displayName": "Aishwarya Rajesh Panhale",
      "userId": "08948554173796470783"
     },
     "user_tz": -660
    },
    "id": "CScYvBfpQ03u"
   },
   "outputs": [],
   "source": [
    "Model_names=['Random Fores','Decision Tree','Support Vector Machine','KNN','MLP']"
   ]
  },
  {
   "cell_type": "code",
   "execution_count": null,
   "metadata": {
    "executionInfo": {
     "elapsed": 5,
     "status": "aborted",
     "timestamp": 1699402837379,
     "user": {
      "displayName": "Aishwarya Rajesh Panhale",
      "userId": "08948554173796470783"
     },
     "user_tz": -660
    },
    "id": "SZVr8crYTHEw"
   },
   "outputs": [],
   "source": [
    "from sklearn.metrics import roc_curve, auc\n",
    "\n",
    "y_true = y_test\n",
    "\n",
    "plt.figure(figsize=(10,8))\n",
    "for name, scores in zip( Model_names, prob_scores):\n",
    "  fpr , tpr, threshold = roc_curve(y_true, scores)\n",
    "  roc_auc = auc(fpr, tpr)\n",
    "  plt.plot(fpr, tpr, label = f\"{name} (area = {roc_auc:.2f})\")\n",
    "\n",
    "plt.plot([0,1],[0,1], 'k--') # Random Classifier line that passes through the diagonal\n",
    "plt.xlim([0.0, 1.0])\n",
    "plt.ylim([0.0, 1.05])\n",
    "plt.xlabel(' False Positive Rate')\n",
    "plt.ylabel(' True positive Rate')\n",
    "plt.title( ' Receiver Operating Characteristics (ROC) curve')\n",
    "plt.legend(loc = \"lower right\")\n",
    "plt.show()"
   ]
  },
  {
   "cell_type": "code",
   "execution_count": null,
   "metadata": {
    "executionInfo": {
     "elapsed": 5,
     "status": "aborted",
     "timestamp": 1699402837379,
     "user": {
      "displayName": "Aishwarya Rajesh Panhale",
      "userId": "08948554173796470783"
     },
     "user_tz": -660
    },
    "id": "mfwEPpAYVKV-"
   },
   "outputs": [],
   "source": [
    "#Load the unknown dataset\n",
    "unknown_data = pd.read_csv('/content/drive/MyDrive/FDA_Dataset_A3/loan_data_unknown.csv')"
   ]
  },
  {
   "cell_type": "code",
   "execution_count": null,
   "metadata": {
    "executionInfo": {
     "elapsed": 5,
     "status": "aborted",
     "timestamp": 1699402837379,
     "user": {
      "displayName": "Aishwarya Rajesh Panhale",
      "userId": "08948554173796470783"
     },
     "user_tz": -660
    },
    "id": "dCBo8pl1VMLd"
   },
   "outputs": [],
   "source": [
    "unknown_data.info()"
   ]
  },
  {
   "cell_type": "code",
   "execution_count": null,
   "metadata": {
    "executionInfo": {
     "elapsed": 5,
     "status": "aborted",
     "timestamp": 1699402837379,
     "user": {
      "displayName": "Aishwarya Rajesh Panhale",
      "userId": "08948554173796470783"
     },
     "user_tz": -660
    },
    "id": "epfRbP8sVpZJ"
   },
   "outputs": [],
   "source": [
    "#identifying missing values\n",
    "missing_values = unknown_data.isna().sum()\n",
    "print(\"Missing values by column:\")\n",
    "print(missing_values[missing_values > 0])"
   ]
  },
  {
   "cell_type": "code",
   "execution_count": null,
   "metadata": {
    "executionInfo": {
     "elapsed": 6,
     "status": "aborted",
     "timestamp": 1699402837380,
     "user": {
      "displayName": "Aishwarya Rajesh Panhale",
      "userId": "08948554173796470783"
     },
     "user_tz": -660
    },
    "id": "Dmz-dEb9MOzf"
   },
   "outputs": [],
   "source": [
    "#data drop based on corelation\n",
    "unknown_data= unknown_data.drop(['EXT_SOURCE_3','FLAG_MOBIL'],axis=1)\n",
    "#multiple columns of FLAG_DOCUMENT\n",
    "unknown_data= unknown_data.drop([ 'FLAG_DOCUMENT_2','FLAG_DOCUMENT_4', 'FLAG_DOCUMENT_5', 'FLAG_DOCUMENT_6','FLAG_DOCUMENT_7',\n",
    "           'FLAG_DOCUMENT_8', 'FLAG_DOCUMENT_9','FLAG_DOCUMENT_10', 'FLAG_DOCUMENT_11', 'FLAG_DOCUMENT_12','FLAG_DOCUMENT_13',\n",
    "           'FLAG_DOCUMENT_14', 'FLAG_DOCUMENT_15','FLAG_DOCUMENT_16', 'FLAG_DOCUMENT_17', 'FLAG_DOCUMENT_18',\n",
    "           'FLAG_DOCUMENT_19', 'FLAG_DOCUMENT_20', 'FLAG_DOCUMENT_21'],axis=1)"
   ]
  },
  {
   "cell_type": "code",
   "execution_count": null,
   "metadata": {
    "executionInfo": {
     "elapsed": 6,
     "status": "aborted",
     "timestamp": 1699402837380,
     "user": {
      "displayName": "Aishwarya Rajesh Panhale",
      "userId": "08948554173796470783"
     },
     "user_tz": -660
    },
    "id": "b8mII6TXV16u"
   },
   "outputs": [],
   "source": [
    "#unknown is written before every variable to differentiate it from training dataset.\n",
    "# Identifying datatypes of column as  numerical and categorical columns\n",
    "unknown_numerical_cols = unknown_data.select_dtypes(include=['float64', 'int64']).columns\n",
    "unknown_categorical_cols = unknown_data.select_dtypes(include=['object']).columns\n",
    "\n",
    "unknown_categorical_distribution = unknown_data[categorical_cols].nunique()\n",
    "#median for numeric values\n",
    "unknown_median_values = unknown_data[unknown_numerical_cols].median()\n",
    "\n",
    "# using median  for missing value\n",
    "unknown_data[unknown_numerical_cols] = unknown_data[unknown_numerical_cols].fillna(unknown_median_values)\n"
   ]
  },
  {
   "cell_type": "code",
   "execution_count": null,
   "metadata": {
    "executionInfo": {
     "elapsed": 6,
     "status": "aborted",
     "timestamp": 1699402837380,
     "user": {
      "displayName": "Aishwarya Rajesh Panhale",
      "userId": "08948554173796470783"
     },
     "user_tz": -660
    },
    "id": "VbJX16k9MvBv"
   },
   "outputs": [],
   "source": [
    "#checking mising values\n",
    "data.isnull().sum()"
   ]
  },
  {
   "cell_type": "code",
   "execution_count": null,
   "metadata": {
    "executionInfo": {
     "elapsed": 6,
     "status": "aborted",
     "timestamp": 1699402837380,
     "user": {
      "displayName": "Aishwarya Rajesh Panhale",
      "userId": "08948554173796470783"
     },
     "user_tz": -660
    },
    "id": "CCwAOPCsOBTW"
   },
   "outputs": [],
   "source": [
    "unknown_data.info()"
   ]
  },
  {
   "cell_type": "code",
   "execution_count": null,
   "metadata": {
    "executionInfo": {
     "elapsed": 6,
     "status": "aborted",
     "timestamp": 1699402837380,
     "user": {
      "displayName": "Aishwarya Rajesh Panhale",
      "userId": "08948554173796470783"
     },
     "user_tz": -660
    },
    "id": "9GLeIemvaD4S"
   },
   "outputs": [],
   "source": [
    "# List of categorical columns to encode\n",
    "categorical_columns = ['NAME_CONTRACT_TYPE', 'CODE_GENDER', 'FLAG_OWN_CAR', 'FLAG_OWN_REALTY', 'NAME_TYPE_SUITE',\n",
    "                      'NAME_INCOME_TYPE', 'NAME_EDUCATION_TYPE', 'NAME_FAMILY_STATUS', 'NAME_HOUSING_TYPE',\n",
    "                      'WEEKDAY_APPR_PROCESS_START', 'ORGANIZATION_TYPE']\n",
    "\n",
    "for column in categorical_columns:\n",
    "    if 'Unknown' in unknown_data[column].unique():\n",
    "        # Encoding the column and excluding 'Unknown'\n",
    "        unknown_data[column] = label_encoder.transform(unknown_data[column][unknown_data[column] != 'Unknown'])\n",
    "\n",
    "for column in categorical_columns:\n",
    "    if 'Unknown' in unknown_data[column].unique():\n",
    "        unknown_data[column] = unknown_data[column].apply(lambda x: label_encoder.transform([x])[0] if x != 'Unknown' else -1)\n"
   ]
  },
  {
   "cell_type": "code",
   "execution_count": null,
   "metadata": {
    "executionInfo": {
     "elapsed": 6,
     "status": "aborted",
     "timestamp": 1699402837380,
     "user": {
      "displayName": "Aishwarya Rajesh Panhale",
      "userId": "08948554173796470783"
     },
     "user_tz": -660
    },
    "id": "VKCMAOtR91I-"
   },
   "outputs": [],
   "source": [
    "unknown_data.head(10)"
   ]
  },
  {
   "cell_type": "code",
   "execution_count": null,
   "metadata": {
    "executionInfo": {
     "elapsed": 6,
     "status": "aborted",
     "timestamp": 1699402837380,
     "user": {
      "displayName": "Aishwarya Rajesh Panhale",
      "userId": "08948554173796470783"
     },
     "user_tz": -660
    },
    "id": "L1mViqtLhAEJ"
   },
   "outputs": [],
   "source": [
    "data.head(10)"
   ]
  }
 ],
 "metadata": {
  "colab": {
   "authorship_tag": "ABX9TyPCy5Mx/f2iovLYQqSPNGE4",
   "mount_file_id": "1HLPGNHcGAf3f4kIKUBemgya02lw0El-j",
   "provenance": []
  },
  "kernelspec": {
   "display_name": "Python 3 (ipykernel)",
   "language": "python",
   "name": "python3"
  },
  "language_info": {
   "codemirror_mode": {
    "name": "ipython",
    "version": 3
   },
   "file_extension": ".py",
   "mimetype": "text/x-python",
   "name": "python",
   "nbconvert_exporter": "python",
   "pygments_lexer": "ipython3",
   "version": "3.11.5"
  }
 },
 "nbformat": 4,
 "nbformat_minor": 1
}
